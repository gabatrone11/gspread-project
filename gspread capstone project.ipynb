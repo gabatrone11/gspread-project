{
 "cells": [
  {
   "cell_type": "markdown",
   "metadata": {},
   "source": [
    "# Capstone Project\n",
    "This capstone project will be using Google Spreadsheets Python API (aka gspread) to copy column values from one worksheet to another. \n",
    "- Check gspread documentation for more info: https://github.com/burnash/gspread\n",
    "- Import libraries - json, gspread, and oauth2client==1.5.2\n",
    "- Use pip install 'package', to install libraries.\n",
    "- Go to http://gspread.readthedocs.org/en/latest/oauth2.html to follow the steps to create google credentials.\n",
    "- <u>pip install oauth2client==1.5.2</u> <strong>not</strong> pip install --upgrade oauth2client. \n",
    "- Make sure downloaded json credential files from google are in same folder as project.\n",
    "- Go to json credential files and copy <strong>'client_email'</strong> and share email with google worksheets that you will be manipulating."
   ]
  },
  {
   "cell_type": "code",
   "execution_count": null,
   "metadata": {
    "collapsed": false
   },
   "outputs": [],
   "source": [
    "import json\n",
    "import gspread\n",
    "from oauth2client.client import SignedJwtAssertionCredentials\n",
    "\n",
    "\n",
    "# using oauth2client==1.5.2 library to use downloaded google api creadentials JSON file\n",
    "# json file must be in the same folder/dir as project code\n",
    "# must share email in json file 'client_email' with google worksheets you plan to manipulate\n",
    "\n",
    "json_key = json.load(open('My_json_files_from_google.json'))# accessing downloaded JSON file from google\n",
    "scope = ['https://spreadsheets.google.com/feeds']\n",
    "credentials = SignedJwtAssertionCredentials(json_key['client_email'], json_key['private_key'].encode(),  scope)\n",
    "gc = gspread.authorize(credentials)\n",
    "\n",
    "\n",
    "# prompting user to enter title of google sheet \n",
    "copy = raw_input(\"Enter title of Google Sheet you would like to copy from: \")\n",
    "paste = raw_input(\"Enter title of Google Sheet you would like to paste values too: \")\n",
    "\n",
    "# You can open a spreadsheet by its title as it appears in Google Doc\n",
    "wks = gc.open(paste).sheet1\n",
    "wks2 = gc.open(copy).sheet1\n",
    "\n",
    "# prompting user to enter column number to copy its values\n",
    "choose_column = int(raw_input(\"Enter column number you would like to copy from worksheet {0} to {1}: \".format(copy, paste)))\n",
    "\n",
    "# prompting user to enter starting value in column to start copying from \n",
    "value_start = str(raw_input(\"Enter value starting point where you would like to copy from worksheet {0} to {1}: \".format(copy, paste)))\n",
    "\n",
    "# get all values from column of choice\n",
    "values_list = wks2.col_values(choose_column)\n",
    "\n",
    "# getting indexing number from value in list\n",
    "new_list  = values_list.index(value_start)\n",
    "\n",
    "# creating list from starting value point\n",
    "values_list = values_list[new_list:]\n",
    "\n",
    "# removing empty values from list\n",
    "values_list = (x for x in values_list if x != \"\")\n",
    "\n",
    "# prompting user to enter row to start pasting copied values\n",
    "row_start = int(raw_input(\"Enter starting row where you would like to paste values to worksheet {0} from {1}: \".format(paste, copy)))\n",
    "\n",
    "# prompting user to enter column to start pasting copied values\n",
    "column_start = int(raw_input(\"Enter column where you would like to paste values to worksheet {0} from {1}: \".format(paste, copy)))\n",
    "\n",
    "\n",
    "\n",
    "\n",
    "# function that iterates through column, copies and pastes to assigned worksheets\n",
    "def paste_To_Worksheet(vlist, row, cstart):\n",
    "    for count,item in enumerate(vlist):\n",
    "        wks.update_cell(row + count, cstart, item)# uses enumerate() to create counter to get exact row to paste values\n",
    "        \n",
    "\n",
    "paste_To_Worksheet(list(values_list), row_start, column_start)"
   ]
  },
  {
   "cell_type": "code",
   "execution_count": null,
   "metadata": {
    "collapsed": false
   },
   "outputs": [],
   "source": []
  },
  {
   "cell_type": "code",
   "execution_count": null,
   "metadata": {
    "collapsed": true
   },
   "outputs": [],
   "source": []
  }
 ],
 "metadata": {
  "kernelspec": {
   "display_name": "Python 2",
   "language": "python",
   "name": "python2"
  },
  "language_info": {
   "codemirror_mode": {
    "name": "ipython",
    "version": 2
   },
   "file_extension": ".py",
   "mimetype": "text/x-python",
   "name": "python",
   "nbconvert_exporter": "python",
   "pygments_lexer": "ipython2",
   "version": "2.7.11"
  }
 },
 "nbformat": 4,
 "nbformat_minor": 0
}
